{
 "cells": [
  {
   "cell_type": "markdown",
   "metadata": {},
   "source": [
    "# A/B-тестирование: увеличение чувствительности метрики "
   ]
  },
  {
   "cell_type": "markdown",
   "metadata": {},
   "source": [
    "<div style=\"border:solid black 1.5px; padding: 20px\">\n",
    "\n",
    "**Заказчик** - Команда ML\n",
    "\n",
    "---\n",
    "\n",
    "**Об исследовании:**\n",
    "\n",
    "Команда ML разработала 2 новых алгоритма рекомендаций в новостной ленте приложения. Суть алгоритмов заключается в следующем:\n",
    "\n",
    "> _В новостной ленте будут появляться посты, схожие на те, что пользователь оценил ранее_\n",
    "    \n",
    "    Тестирование алгоритма проходит на группах 0 и 3, где:\n",
    "    \n",
    "    0 - это контрольная группа\n",
    "    3 - это эксперементальная группа\n",
    "    \n",
    "> _В новостной ленте будут появляться посты, которые оценили (лайкнули) похожие на пользователя посетители_\n",
    "    \n",
    "    Тестирование алгоритма проходит на группах 1 и 2, где:\n",
    "    \n",
    "    1 - это контрольная группа\n",
    "    2 - это эксперементальная группа\n",
    "\n",
    "---\n",
    "    \n",
    "*_Даты проведенных тестов:_*\n",
    "\n",
    ">- А/А тест проводился с '2023-05-24' по '2023-05-30'.\n",
    ">- А/В тест проводился с '2023-05-31' по '2023-06-06'.\n",
    "\n",
    "---\n",
    "\n",
    "**Цель исследования:**\n",
    "\n",
    "Постараться увеличить чувствительность метрики: \n",
    "\n",
    "---\n",
    "\n",
    "**Задачи исследования:**\n",
    "\n",
    ">- Проанализировать тест между группами 0 и 3 по метрике линеаризованных лайков. Ответить на вопросы: \n",
    "    \n",
    "        1. Видно ли отличие? \n",
    "        2. Стало ли 𝑝−𝑣𝑎𝑙𝑢𝑒 меньше?\n",
    "    \n",
    ">- Проанализировать тест между группами 1 и 2 по метрике линеаризованных лайков. Ответить на вопросы: \n",
    "    \n",
    "        1. Видно ли отличие? \n",
    "        2. Стало ли 𝑝−𝑣𝑎𝑙𝑢𝑒 меньше?"
   ]
  },
  {
   "cell_type": "markdown",
   "metadata": {},
   "source": [
    "## Импорт библиотек и настройка тетради"
   ]
  },
  {
   "cell_type": "code",
   "execution_count": 1,
   "metadata": {},
   "outputs": [],
   "source": [
    "# импорт необходимых библиотек\n",
    "import pandas as pd\n",
    "from matplotlib import pyplot as plt\n",
    "import seaborn as sns\n",
    "import io\n",
    "sns.set(style ='ticks')\n",
    "import numpy as np\n",
    "from scipy import stats as st\n",
    "import math as mth\n",
    "from math import factorial\n",
    "import statsmodels.api as sm \n",
    "from read_db.CH import Getch\n",
    "import pandahouse as ph"
   ]
  },
  {
   "cell_type": "code",
   "execution_count": 2,
   "metadata": {},
   "outputs": [],
   "source": [
    "# настройка тетради\n",
    "# отключаю системные предупреждения\n",
    "import warnings\n",
    "warnings.filterwarnings('ignore')\n",
    "\n",
    "# помощь в отображении данных\n",
    "pd.set_option('display.max_columns', None) # отображение всех столбцов\n",
    "pd.set_option('display.max_colwidth', None) # отображение данных в столбцах, даже если они слишком длинные"
   ]
  },
  {
   "cell_type": "markdown",
   "metadata": {},
   "source": [
    "## Формирование датасетов для анализа"
   ]
  },
  {
   "cell_type": "code",
   "execution_count": 3,
   "metadata": {},
   "outputs": [],
   "source": [
    "# подключение к базе даных\n",
    "connection = {'host': 'https://clickhouse.lab.karpov.courses',\n",
    "                      'database':'simulator_20230620',\n",
    "                      'user':'student', \n",
    "                      'password':'dpo_python_2020'\n",
    "                     }"
   ]
  },
  {
   "cell_type": "code",
   "execution_count": 4,
   "metadata": {},
   "outputs": [
    {
     "data": {
      "text/html": [
       "<div>\n",
       "<style scoped>\n",
       "    .dataframe tbody tr th:only-of-type {\n",
       "        vertical-align: middle;\n",
       "    }\n",
       "\n",
       "    .dataframe tbody tr th {\n",
       "        vertical-align: top;\n",
       "    }\n",
       "\n",
       "    .dataframe thead th {\n",
       "        text-align: right;\n",
       "    }\n",
       "</style>\n",
       "<table border=\"1\" class=\"dataframe\">\n",
       "  <thead>\n",
       "    <tr style=\"text-align: right;\">\n",
       "      <th></th>\n",
       "      <th>exp_group</th>\n",
       "      <th>user_id</th>\n",
       "      <th>likes</th>\n",
       "      <th>views</th>\n",
       "      <th>ctr</th>\n",
       "    </tr>\n",
       "  </thead>\n",
       "  <tbody>\n",
       "    <tr>\n",
       "      <th>0</th>\n",
       "      <td>3</td>\n",
       "      <td>115383</td>\n",
       "      <td>9</td>\n",
       "      <td>30</td>\n",
       "      <td>0.300000</td>\n",
       "    </tr>\n",
       "    <tr>\n",
       "      <th>1</th>\n",
       "      <td>3</td>\n",
       "      <td>123580</td>\n",
       "      <td>13</td>\n",
       "      <td>48</td>\n",
       "      <td>0.270833</td>\n",
       "    </tr>\n",
       "    <tr>\n",
       "      <th>2</th>\n",
       "      <td>0</td>\n",
       "      <td>4944</td>\n",
       "      <td>8</td>\n",
       "      <td>41</td>\n",
       "      <td>0.195122</td>\n",
       "    </tr>\n",
       "    <tr>\n",
       "      <th>3</th>\n",
       "      <td>0</td>\n",
       "      <td>4504</td>\n",
       "      <td>5</td>\n",
       "      <td>15</td>\n",
       "      <td>0.333333</td>\n",
       "    </tr>\n",
       "    <tr>\n",
       "      <th>4</th>\n",
       "      <td>0</td>\n",
       "      <td>121508</td>\n",
       "      <td>18</td>\n",
       "      <td>88</td>\n",
       "      <td>0.204545</td>\n",
       "    </tr>\n",
       "  </tbody>\n",
       "</table>\n",
       "</div>"
      ],
      "text/plain": [
       "   exp_group  user_id  likes  views       ctr\n",
       "0          3   115383      9     30  0.300000\n",
       "1          3   123580     13     48  0.270833\n",
       "2          0     4944      8     41  0.195122\n",
       "3          0     4504      5     15  0.333333\n",
       "4          0   121508     18     88  0.204545"
      ]
     },
     "execution_count": 4,
     "metadata": {},
     "output_type": "execute_result"
    }
   ],
   "source": [
    "# извлечение данных для первой задачи (группы 0 и 3)\n",
    "query = '''\n",
    "    SELECT exp_group, \n",
    "           user_id,\n",
    "           sum(action = 'like') likes,\n",
    "           sum(action = 'view') views,\n",
    "           likes/views as ctr \n",
    "    FROM simulator_20230620.feed_actions \n",
    "    WHERE toDate(time) between '2023-05-31' and '2023-06-06'\n",
    "          and exp_group in (0, 3)\n",
    "    GROUP BY exp_group, user_id\n",
    "'''\n",
    "\n",
    "df_03 = ph.read_clickhouse(query, connection=connection)\n",
    "df_03.head()"
   ]
  },
  {
   "cell_type": "code",
   "execution_count": 5,
   "metadata": {},
   "outputs": [
    {
     "data": {
      "text/html": [
       "<div>\n",
       "<style scoped>\n",
       "    .dataframe tbody tr th:only-of-type {\n",
       "        vertical-align: middle;\n",
       "    }\n",
       "\n",
       "    .dataframe tbody tr th {\n",
       "        vertical-align: top;\n",
       "    }\n",
       "\n",
       "    .dataframe thead th {\n",
       "        text-align: right;\n",
       "    }\n",
       "</style>\n",
       "<table border=\"1\" class=\"dataframe\">\n",
       "  <thead>\n",
       "    <tr style=\"text-align: right;\">\n",
       "      <th></th>\n",
       "      <th>exp_group</th>\n",
       "      <th>user_id</th>\n",
       "      <th>likes</th>\n",
       "      <th>views</th>\n",
       "      <th>ctr</th>\n",
       "    </tr>\n",
       "  </thead>\n",
       "  <tbody>\n",
       "    <tr>\n",
       "      <th>0</th>\n",
       "      <td>1</td>\n",
       "      <td>109963</td>\n",
       "      <td>3</td>\n",
       "      <td>15</td>\n",
       "      <td>0.200000</td>\n",
       "    </tr>\n",
       "    <tr>\n",
       "      <th>1</th>\n",
       "      <td>1</td>\n",
       "      <td>26117</td>\n",
       "      <td>32</td>\n",
       "      <td>141</td>\n",
       "      <td>0.226950</td>\n",
       "    </tr>\n",
       "    <tr>\n",
       "      <th>2</th>\n",
       "      <td>1</td>\n",
       "      <td>138232</td>\n",
       "      <td>18</td>\n",
       "      <td>73</td>\n",
       "      <td>0.246575</td>\n",
       "    </tr>\n",
       "    <tr>\n",
       "      <th>3</th>\n",
       "      <td>1</td>\n",
       "      <td>26295</td>\n",
       "      <td>33</td>\n",
       "      <td>122</td>\n",
       "      <td>0.270492</td>\n",
       "    </tr>\n",
       "    <tr>\n",
       "      <th>4</th>\n",
       "      <td>1</td>\n",
       "      <td>18392</td>\n",
       "      <td>7</td>\n",
       "      <td>32</td>\n",
       "      <td>0.218750</td>\n",
       "    </tr>\n",
       "  </tbody>\n",
       "</table>\n",
       "</div>"
      ],
      "text/plain": [
       "   exp_group  user_id  likes  views       ctr\n",
       "0          1   109963      3     15  0.200000\n",
       "1          1    26117     32    141  0.226950\n",
       "2          1   138232     18     73  0.246575\n",
       "3          1    26295     33    122  0.270492\n",
       "4          1    18392      7     32  0.218750"
      ]
     },
     "execution_count": 5,
     "metadata": {},
     "output_type": "execute_result"
    }
   ],
   "source": [
    "#извлекаем данные для второй задачи (группы 1 и 2)\n",
    "query = '''\n",
    "    SELECT exp_group, \n",
    "           user_id,\n",
    "           sum(action = 'like') likes,\n",
    "           sum(action = 'view') views,\n",
    "           likes/views as ctr \n",
    "    FROM simulator_20230620.feed_actions \n",
    "    WHERE toDate(time) between '2023-05-31' and '2023-06-06'\n",
    "          and exp_group in (1, 2)\n",
    "    GROUP BY exp_group, user_id\n",
    "'''\n",
    "\n",
    "df_12 = ph.read_clickhouse(query, connection=connection)\n",
    "df_12.head()"
   ]
  },
  {
   "cell_type": "markdown",
   "metadata": {},
   "source": [
    "## Тест между группами 0 и 3 по метрике линеаризованных лайков"
   ]
  },
  {
   "cell_type": "markdown",
   "metadata": {},
   "source": [
    "Немного ясности и пояснений по методу, используемому в данной работе.\n",
    "\n",
    "Идея метода заключается в следующем:\n",
    "\n",
    ">- Вместо того, чтобы заталкивать в тест «поюзерные» CTR, можно сконструировать другую метрику и анализировать ее, но при этом гарантируется (в отличие от сглаженного CTR), что если тест на этой другой метрике «прокрасится» и увидит изменения, значит изменения есть и в метрике исходной (то есть в лайках на пользователя и в пользовательских CTR).\n",
    "\n",
    "При этом метод сам по себе очень прост. Что это за метрика такая?\n",
    "\n",
    "- Считаем общий CTR в контрольной группе  \n",
    "\n",
    "𝐶𝑇𝑅𝑐𝑜𝑛𝑡𝑟𝑜𝑙 = 𝑠𝑢𝑚(𝑙𝑖𝑘𝑒𝑠) / 𝑠𝑢𝑚(𝑣𝑖𝑒𝑤𝑠)\n",
    "\n",
    "- Посчитаем в обеих группах поюзерную метрику \n",
    "\n",
    "𝑙𝑖𝑛𝑒𝑎𝑟𝑖𝑧𝑒𝑑_𝑙𝑖𝑘𝑒𝑠 = 𝑙𝑖𝑘𝑒𝑠−𝐶𝑇𝑅𝑐𝑜𝑛𝑡𝑟𝑜𝑙∗𝑣𝑖𝑒𝑤𝑠\n",
    "\n",
    "\n",
    "- После чего сравним  t-тестом отличия в группах по метрике 𝑙𝑖𝑛𝑒𝑎𝑟𝑖𝑧𝑒𝑑_𝑙𝑖𝑘𝑒𝑠  \n",
    "\n",
    "\n",
    "\n",
    "---\n",
    "\n",
    "_Метод простой, гарантируется, что при приличном размере выборки (как у нас — подойдет) можно бесплатно увеличить чувствительность вашей метрики (или, по крайней мере, не сделать хуже)._ \n",
    "\n",
    "---\n",
    "\n",
    "Сразу же обозначим гипотезы:\n",
    "\n",
    "**По CTR**\n",
    "\n",
    "Н₀(нулевая гипотеза) - это предположение о том, средняя величина CTR в группах _не имеет_ статистически значимых различий.\n",
    "\n",
    "Н1₁(альтернативная гипотеза) - это предположение о том, средняя величина CTR в группах _имеет_ статистически значимые различия.\n",
    "\n",
    "**По линеаризованным лайкам**\n",
    "\n",
    "Н₀(нулевая гипотеза) - это предположение о том, средняя величина 'linearized_likes' в группах _не имеет_ статистически значимых различий.\n",
    "\n",
    "Н1₁(альтернативная гипотеза) - это предположение о том, средняя величина 'linearized_likes' в группах _имеет_ статистически значимые различия."
   ]
  },
  {
   "cell_type": "markdown",
   "metadata": {},
   "source": [
    "Начнем с того, что посчитаем CTR в контрольной группе. Напомню информацию по группам:\n",
    "- 0 и 1 - контрольные группы пользователей, не столкнувшиеся с изменениями в ленте\n",
    "- 2 и 3 - группы, на пользователей из которых были раскатаны новые алгоритмы рекомендаций"
   ]
  },
  {
   "cell_type": "code",
   "execution_count": 6,
   "metadata": {},
   "outputs": [
    {
     "name": "stdout",
     "output_type": "stream",
     "text": [
      "Общегрупповой CTR в контрольной группе 0 равен 0.20823612262916305\n"
     ]
    }
   ],
   "source": [
    "# CTR контрольной группы 0\n",
    "ctr_1 = df_03[df_03.exp_group == 0].likes.sum() / df_03[df_03.exp_group == 0].views.sum()\n",
    "\n",
    "print('Общегрупповой CTR в контрольной группе 0 равен', ctr_1)"
   ]
  },
  {
   "cell_type": "markdown",
   "metadata": {},
   "source": [
    "Далее, согласно данным выше инструкциям, нам необходимо посчитать поюзерную метрику '𝑙𝑖𝑛𝑒𝑎𝑟𝑖𝑧𝑒𝑑_𝑙𝑖𝑘𝑒𝑠' для обеих групп - 0 и 3."
   ]
  },
  {
   "cell_type": "code",
   "execution_count": 7,
   "metadata": {},
   "outputs": [
    {
     "data": {
      "text/html": [
       "<div>\n",
       "<style scoped>\n",
       "    .dataframe tbody tr th:only-of-type {\n",
       "        vertical-align: middle;\n",
       "    }\n",
       "\n",
       "    .dataframe tbody tr th {\n",
       "        vertical-align: top;\n",
       "    }\n",
       "\n",
       "    .dataframe thead th {\n",
       "        text-align: right;\n",
       "    }\n",
       "</style>\n",
       "<table border=\"1\" class=\"dataframe\">\n",
       "  <thead>\n",
       "    <tr style=\"text-align: right;\">\n",
       "      <th></th>\n",
       "      <th>exp_group</th>\n",
       "      <th>user_id</th>\n",
       "      <th>likes</th>\n",
       "      <th>views</th>\n",
       "      <th>ctr</th>\n",
       "      <th>linearized_likes</th>\n",
       "    </tr>\n",
       "  </thead>\n",
       "  <tbody>\n",
       "    <tr>\n",
       "      <th>0</th>\n",
       "      <td>3</td>\n",
       "      <td>115383</td>\n",
       "      <td>9</td>\n",
       "      <td>30</td>\n",
       "      <td>0.300000</td>\n",
       "      <td>2.752916</td>\n",
       "    </tr>\n",
       "    <tr>\n",
       "      <th>1</th>\n",
       "      <td>3</td>\n",
       "      <td>123580</td>\n",
       "      <td>13</td>\n",
       "      <td>48</td>\n",
       "      <td>0.270833</td>\n",
       "      <td>3.004666</td>\n",
       "    </tr>\n",
       "    <tr>\n",
       "      <th>2</th>\n",
       "      <td>0</td>\n",
       "      <td>4944</td>\n",
       "      <td>8</td>\n",
       "      <td>41</td>\n",
       "      <td>0.195122</td>\n",
       "      <td>-0.537681</td>\n",
       "    </tr>\n",
       "    <tr>\n",
       "      <th>3</th>\n",
       "      <td>0</td>\n",
       "      <td>4504</td>\n",
       "      <td>5</td>\n",
       "      <td>15</td>\n",
       "      <td>0.333333</td>\n",
       "      <td>1.876458</td>\n",
       "    </tr>\n",
       "    <tr>\n",
       "      <th>4</th>\n",
       "      <td>0</td>\n",
       "      <td>121508</td>\n",
       "      <td>18</td>\n",
       "      <td>88</td>\n",
       "      <td>0.204545</td>\n",
       "      <td>-0.324779</td>\n",
       "    </tr>\n",
       "  </tbody>\n",
       "</table>\n",
       "</div>"
      ],
      "text/plain": [
       "   exp_group  user_id  likes  views       ctr  linearized_likes\n",
       "0          3   115383      9     30  0.300000          2.752916\n",
       "1          3   123580     13     48  0.270833          3.004666\n",
       "2          0     4944      8     41  0.195122         -0.537681\n",
       "3          0     4504      5     15  0.333333          1.876458\n",
       "4          0   121508     18     88  0.204545         -0.324779"
      ]
     },
     "execution_count": 7,
     "metadata": {},
     "output_type": "execute_result"
    }
   ],
   "source": [
    "# расчет 𝑙𝑖𝑛𝑒𝑎𝑟𝑖𝑧𝑒𝑑_𝑙𝑖𝑘𝑒𝑠 для групп 0 и 3\n",
    "df_03['linearized_likes'] = df_03.likes - (ctr_1 * df_03.views)\n",
    "\n",
    "df_03.head()"
   ]
  },
  {
   "cell_type": "markdown",
   "metadata": {},
   "source": [
    "Посмотрим графически как распределены наши метрики."
   ]
  },
  {
   "cell_type": "code",
   "execution_count": 8,
   "metadata": {},
   "outputs": [
    {
     "data": {
      "image/png": "[encoded data removed]",
      "text/plain": [
       "<Figure size 1296x648 with 1 Axes>"
      ]
     },
     "metadata": {},
     "output_type": "display_data"
    }
   ],
   "source": [
    "plt.figure(figsize=(18,9))\n",
    "\n",
    "sns.distplot(df_03[df_03.exp_group == 0].ctr, kde = False, color = 'green')\n",
    "sns.distplot(df_03[df_03.exp_group == 3].ctr, kde = False, color = 'pink')\n",
    "plt.title('Распределение CTR пользователей')\n",
    "plt.xlabel('CTR')\n",
    "plt.ylabel('Частота событий');"
   ]
  },
  {
   "cell_type": "code",
   "execution_count": 9,
   "metadata": {},
   "outputs": [
    {
     "data": {
      "image/png": "[encoded data removed]",
      "text/plain": [
       "<Figure size 1296x648 with 1 Axes>"
      ]
     },
     "metadata": {},
     "output_type": "display_data"
    }
   ],
   "source": [
    "plt.figure(figsize=(18,9))\n",
    "\n",
    "sns.distplot(df_03[df_03.exp_group == 0].linearized_likes, kde = False, color = 'green')\n",
    "sns.distplot(df_03[df_03.exp_group == 3].linearized_likes, kde = False, color = 'pink')\n",
    "plt.title('Распределение поюзерной метрики линеаризованных лайков')\n",
    "plt.xlabel('CTR')\n",
    "plt.ylabel('Частота событий');"
   ]
  },
  {
   "cell_type": "markdown",
   "metadata": {},
   "source": [
    "Проведем два t-теста:\n",
    "1. на поюзерном CTR\n",
    "2. на поюзерной метрике linearized_likes (линеаризованные лайки)\n",
    "\n",
    "Это необходимо для того, чтобы сравнить две величины p-valeu и определить есть ли отличия."
   ]
  },
  {
   "cell_type": "code",
   "execution_count": 10,
   "metadata": {},
   "outputs": [
    {
     "name": "stdout",
     "output_type": "stream",
     "text": [
      "p-значение: 1.055849414662529e-43\n",
      "Отвергаем нулевую гипотезу\n"
     ]
    }
   ],
   "source": [
    "# t-test для CTR\n",
    "alpha = .05 # критические уровень значимости\n",
    "\n",
    "results = st.ttest_ind(df_03[df_03.exp_group == 0].ctr,\n",
    "            df_03[df_03.exp_group == 3].ctr,\n",
    "            equal_var=False)\n",
    "\n",
    "\n",
    "print('p-значение:', results.pvalue)\n",
    "\n",
    "if results.pvalue < alpha:\n",
    "    print(\"Отвергаем нулевую гипотезу\")\n",
    "else:\n",
    "    print(\"Не получилось отвергнуть нулевую гипотезу\") "
   ]
  },
  {
   "cell_type": "code",
   "execution_count": 11,
   "metadata": {},
   "outputs": [
    {
     "name": "stdout",
     "output_type": "stream",
     "text": [
      "p-значение: 5.4914249479690016e-52\n",
      "Отвергаем нулевую гипотезу\n"
     ]
    }
   ],
   "source": [
    "# t-test для linearized_likes\n",
    "\n",
    "alpha = .05 # критические уровень значимости\n",
    "\n",
    "results = st.ttest_ind(df_03[df_03.exp_group == 0].linearized_likes,\n",
    "            df_03[df_03.exp_group == 3].linearized_likes,\n",
    "            equal_var=False)\n",
    "\n",
    "\n",
    "print('p-значение:', results.pvalue)\n",
    "\n",
    "if results.pvalue < alpha:\n",
    "    print(\"Отвергаем нулевую гипотезу\")\n",
    "else:\n",
    "    print(\"Не получилось отвергнуть нулевую гипотезу\") "
   ]
  },
  {
   "cell_type": "markdown",
   "metadata": {},
   "source": [
    "<div style=\"border:solid black 0.5px; padding: 20px\">\n",
    "\n",
    "**Выводы по этапу:**\n",
    "\n",
    "- Оба теста показали наличие статистически значимой разнизы между выборками.\n",
    "- Во втором случае значение p-valeu ниже, что говорит о большей чувствительности тесты. Как мы помним, чем ниже значение p-valeu, тем лучше, поскольку при этом увеличивается «сила» отклонения нулевой гипотезы и увеличивается ожидаемая значимость результата.\n",
    "- Согласно гистограммам распределения показатели немного выше у эксперементальной группы (на группу 3 был раскатан алгоритм рекомендаций, где пользователю предлагали посты на основании тех, что он оценил ранее)."
   ]
  },
  {
   "cell_type": "markdown",
   "metadata": {},
   "source": [
    "## Тест между группами 1 и 2 по метрике линеаризованных лайков"
   ]
  },
  {
   "cell_type": "markdown",
   "metadata": {},
   "source": [
    "Вспомним о каких изменениях идет речь. Данные группы участвовали в тесте по новому алгоритму рекоментаций - В новостной ленте будут появляться посты, которые оценили (лайкнули) похожие на пользователя посетители.\n",
    "\n",
    "- Группа 1 - контрольная\n",
    "- Группа 2 - эксперементальная\n",
    "\n",
    "Ранее, в предыдущих исследованиях, было определено, что поведение пользователей во второй группе имеет странное различие - вероятно кому-то новый алгоритм не понравится, а кому-то наоборот. Это предположение было выстроено на двухмодальном распределении CTR.\n",
    "\n",
    "Проверим как сработает тест по метрике линеаризованных лайков.\n",
    "\n",
    "---\n",
    "\n",
    "Обозначим гипотезы:\n",
    "\n",
    "**По CTR**\n",
    "\n",
    "Н₀(нулевая гипотеза) - это предположение о том, средняя величина CTR в группах _не имеет_ статистически значимых различий.\n",
    "\n",
    "Н1₁(альтернативная гипотеза) - это предположение о том, средняя величина CTR в группах _имеет_ статистически значимые различия.\n",
    "\n",
    "**По линеаризованным лайкам**\n",
    "\n",
    "Н₀(нулевая гипотеза) - это предположение о том, средняя величина 'linearized_likes' в группах _не имеет_ статистически значимых различий.\n",
    "\n",
    "Н1₁(альтернативная гипотеза) - это предположение о том, средняя величина 'linearized_likes' в группах _имеет_ статистически значимые различия."
   ]
  },
  {
   "cell_type": "code",
   "execution_count": 12,
   "metadata": {},
   "outputs": [
    {
     "name": "stdout",
     "output_type": "stream",
     "text": [
      "Общегрупповой CTR в контрольной группе 1 равен 0.20802680490126244\n"
     ]
    }
   ],
   "source": [
    "# CTR контрольной группы 1\n",
    "ctr_2 = df_12[df_12.exp_group == 1].likes.sum() / df_12[df_12.exp_group == 1].views.sum()\n",
    "\n",
    "print('Общегрупповой CTR в контрольной группе 1 равен', ctr_2)"
   ]
  },
  {
   "cell_type": "code",
   "execution_count": 13,
   "metadata": {},
   "outputs": [
    {
     "data": {
      "text/html": [
       "<div>\n",
       "<style scoped>\n",
       "    .dataframe tbody tr th:only-of-type {\n",
       "        vertical-align: middle;\n",
       "    }\n",
       "\n",
       "    .dataframe tbody tr th {\n",
       "        vertical-align: top;\n",
       "    }\n",
       "\n",
       "    .dataframe thead th {\n",
       "        text-align: right;\n",
       "    }\n",
       "</style>\n",
       "<table border=\"1\" class=\"dataframe\">\n",
       "  <thead>\n",
       "    <tr style=\"text-align: right;\">\n",
       "      <th></th>\n",
       "      <th>exp_group</th>\n",
       "      <th>user_id</th>\n",
       "      <th>likes</th>\n",
       "      <th>views</th>\n",
       "      <th>ctr</th>\n",
       "      <th>linearized_likes</th>\n",
       "    </tr>\n",
       "  </thead>\n",
       "  <tbody>\n",
       "    <tr>\n",
       "      <th>0</th>\n",
       "      <td>1</td>\n",
       "      <td>109963</td>\n",
       "      <td>3</td>\n",
       "      <td>15</td>\n",
       "      <td>0.200000</td>\n",
       "      <td>-0.120402</td>\n",
       "    </tr>\n",
       "    <tr>\n",
       "      <th>1</th>\n",
       "      <td>1</td>\n",
       "      <td>26117</td>\n",
       "      <td>32</td>\n",
       "      <td>141</td>\n",
       "      <td>0.226950</td>\n",
       "      <td>2.668221</td>\n",
       "    </tr>\n",
       "    <tr>\n",
       "      <th>2</th>\n",
       "      <td>1</td>\n",
       "      <td>138232</td>\n",
       "      <td>18</td>\n",
       "      <td>73</td>\n",
       "      <td>0.246575</td>\n",
       "      <td>2.814043</td>\n",
       "    </tr>\n",
       "    <tr>\n",
       "      <th>3</th>\n",
       "      <td>1</td>\n",
       "      <td>26295</td>\n",
       "      <td>33</td>\n",
       "      <td>122</td>\n",
       "      <td>0.270492</td>\n",
       "      <td>7.620730</td>\n",
       "    </tr>\n",
       "    <tr>\n",
       "      <th>4</th>\n",
       "      <td>1</td>\n",
       "      <td>18392</td>\n",
       "      <td>7</td>\n",
       "      <td>32</td>\n",
       "      <td>0.218750</td>\n",
       "      <td>0.343142</td>\n",
       "    </tr>\n",
       "  </tbody>\n",
       "</table>\n",
       "</div>"
      ],
      "text/plain": [
       "   exp_group  user_id  likes  views       ctr  linearized_likes\n",
       "0          1   109963      3     15  0.200000         -0.120402\n",
       "1          1    26117     32    141  0.226950          2.668221\n",
       "2          1   138232     18     73  0.246575          2.814043\n",
       "3          1    26295     33    122  0.270492          7.620730\n",
       "4          1    18392      7     32  0.218750          0.343142"
      ]
     },
     "execution_count": 13,
     "metadata": {},
     "output_type": "execute_result"
    }
   ],
   "source": [
    "# расчет 𝑙𝑖𝑛𝑒𝑎𝑟𝑖𝑧𝑒𝑑_𝑙𝑖𝑘𝑒𝑠 для групп 1 и 2\n",
    "df_12['linearized_likes'] = df_12.likes - (ctr_2 * df_12.views)\n",
    "\n",
    "df_12.head()"
   ]
  },
  {
   "cell_type": "markdown",
   "metadata": {},
   "source": [
    "Посмотрим на графическое распределение метрик."
   ]
  },
  {
   "cell_type": "code",
   "execution_count": 14,
   "metadata": {},
   "outputs": [
    {
     "data": {
      "image/png": "[encoded data removed]",
      "text/plain": [
       "<Figure size 1080x648 with 1 Axes>"
      ]
     },
     "metadata": {},
     "output_type": "display_data"
    }
   ],
   "source": [
    "plt.figure(figsize=(15,9))\n",
    "\n",
    "sns.distplot(df_12[df_12.exp_group == 1].ctr, kde = False, color = 'green')\n",
    "sns.distplot(df_12[df_12.exp_group == 2].ctr, kde = False, color = 'pink')\n",
    "plt.title('Распределение CTR пользователей')\n",
    "plt.xlabel('CTR')\n",
    "plt.ylabel('Частота событий');"
   ]
  },
  {
   "cell_type": "code",
   "execution_count": 15,
   "metadata": {},
   "outputs": [
    {
     "data": {
      "image/png": "[encoded data removed]",
      "text/plain": [
       "<Figure size 1080x648 with 1 Axes>"
      ]
     },
     "metadata": {},
     "output_type": "display_data"
    }
   ],
   "source": [
    "plt.figure(figsize=(15,9))\n",
    "\n",
    "sns.distplot(df_12[df_12.exp_group == 1].linearized_likes, kde = False, color = 'green')\n",
    "sns.distplot(df_12[df_12.exp_group == 2].linearized_likes, kde = False, color = 'pink')\n",
    "plt.title('Распределение поюзерной метрики линеаризованных лайков')\n",
    "plt.xlabel('CTR')\n",
    "plt.ylabel('Частота событий');"
   ]
  },
  {
   "cell_type": "markdown",
   "metadata": {},
   "source": [
    "Что примечательно, распределение линеаризованных лайков в экспеперементальной группе также двухмодально. Об этом надо помнить, при выполнении t-теста - распределение не нормально."
   ]
  },
  {
   "cell_type": "code",
   "execution_count": 16,
   "metadata": {},
   "outputs": [
    {
     "name": "stdout",
     "output_type": "stream",
     "text": [
      "p-значение: 0.47806231308750413\n",
      "Не получилось отвергнуть нулевую гипотезу\n"
     ]
    }
   ],
   "source": [
    "# t-test для CTR\n",
    "alpha = .05 # критические уровень значимости\n",
    "\n",
    "results = st.ttest_ind(df_12[df_12.exp_group == 1].ctr,\n",
    "            df_12[df_12.exp_group == 2].ctr,\n",
    "            equal_var=False)\n",
    "\n",
    "\n",
    "print('p-значение:', results.pvalue)\n",
    "\n",
    "if results.pvalue < alpha:\n",
    "    print(\"Отвергаем нулевую гипотезу\")\n",
    "else:\n",
    "    print(\"Не получилось отвергнуть нулевую гипотезу\") "
   ]
  },
  {
   "cell_type": "code",
   "execution_count": 17,
   "metadata": {},
   "outputs": [
    {
     "name": "stdout",
     "output_type": "stream",
     "text": [
      "p-значение: 9.439432187037712e-10\n",
      "Отвергаем нулевую гипотезу\n"
     ]
    }
   ],
   "source": [
    "# t-test для linearized_likes\n",
    "\n",
    "alpha = .05 # критические уровень значимости\n",
    "\n",
    "results = st.ttest_ind(df_12[df_12.exp_group == 1].linearized_likes,\n",
    "            df_12[df_12.exp_group == 2].linearized_likes,\n",
    "            equal_var=False)\n",
    "\n",
    "\n",
    "print('p-значение:', results.pvalue)\n",
    "\n",
    "if results.pvalue < alpha:\n",
    "    print(\"Отвергаем нулевую гипотезу\")\n",
    "else:\n",
    "    print(\"Не получилось отвергнуть нулевую гипотезу\") "
   ]
  },
  {
   "cell_type": "markdown",
   "metadata": {},
   "source": [
    "<div style=\"border:solid black 0.5px; padding: 20px\">\n",
    "\n",
    "**Вывод по этапу**\n",
    "\n",
    "- Что примечательно, t-тест на выборке CTR не показал статистически значимых различий, а вот по метрике линеаризованных лайков статистически значимое различие было определено, что позволило опровергнуть нулевоую гипотезу о равенстве средних.\n",
    "- Значение p-valeu для метрики линеаризованных лайков тоже снизилось, при чем значительно.      \n",
    "- Результаты проведенных тестов говорят нам о том, что метод, где мы конструируем новую метрику (в данном случае линеаризованные лайки), более чувствителен и позволяет нам с большей точностью определить различия выборок."
   ]
  },
  {
   "cell_type": "markdown",
   "metadata": {},
   "source": [
    "# Вывод по работе"
   ]
  },
  {
   "cell_type": "markdown",
   "metadata": {},
   "source": [
    "<div style=\"border:solid black 0.5px; padding: 20px\">\n",
    "\n",
    "По результатам исследования можно сделать вывод, что с высокой долей вероятности, метод конструирования другой метрики и ее анализ позволяет увеличить чувствительность проводимого теста."
   ]
  },
  {
   "cell_type": "code",
   "execution_count": null,
   "metadata": {},
   "outputs": [],
   "source": []
  }
 ],
 "metadata": {
  "kernelspec": {
   "display_name": "Python 3",
   "language": "python",
   "name": "python3"
  },
  "language_info": {
   "codemirror_mode": {
    "name": "ipython",
    "version": 3
   },
   "file_extension": ".py",
   "mimetype": "text/x-python",
   "name": "python",
   "nbconvert_exporter": "python",
   "pygments_lexer": "ipython3",
   "version": "3.7.3"
  }
 },
 "nbformat": 4,
 "nbformat_minor": 4
}
