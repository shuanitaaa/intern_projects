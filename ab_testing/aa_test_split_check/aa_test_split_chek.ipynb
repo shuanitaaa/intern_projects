{
 "cells": [
  {
   "cell_type": "markdown",
   "metadata": {},
   "source": [
    "# А/А-тест. Проверка системы сплитирования"
   ]
  },
  {
   "cell_type": "markdown",
   "metadata": {},
   "source": [
    "<div style=\"border:solid black 1.5px; padding: 20px\">\n",
    "\n",
    "**Заказчик** - Команда ML\n",
    "\n",
    "---\n",
    "\n",
    "**Об исследовании:**\n",
    "\n",
    "Команда ML разработала новый алгоритм рекомендаций в новостной ленте приложения. Суть нового алгоритма заключается в следующем:\n",
    "\n",
    "> _В новостной ленте будут появляться посты, которые оценили (лайкнули) похожие на пользователя посетители_\n",
    "\n",
    "\n",
    "*_Даты проведенных тестов:_*\n",
    "\n",
    ">- А/А тест проводился с '2023-05-24' по '2023-05-30'.\n",
    ">- А/В тест проводился с '2023-05-31' по '2023-06-06'.\n",
    "\n",
    "---\n",
    "\n",
    "**Цель исследования:**\n",
    "\n",
    "Оценить воздествие нового алгоритма на пользователей, сделает ли он приложение приятнее и удобнее для конечного потребителя.\n",
    "\n",
    "---\n",
    "\n",
    "**Метод оценки удовлетворенности потребителя:**\n",
    "\n",
    "Удовлетворенность потребителя будет оценится через CTR лайков к просмотрам (то есть изменения соотношения числа лайков, выставленных пользователем, к числу его просмотров).\n",
    "    \n",
    "---\n",
    "\n",
    "**О группах:**\n",
    "\n",
    "Всего пользователи в логах данных разделены на 5 эксперементальных групп.\n",
    "    \n",
    "---\n",
    "\n",
    "**Задача:** - Выполнить симуляцию, словно было проведено 10000 А/А-тестов. На каждой итерации необходимо сформировать подвыборки без повторения в 500 юзеров из 2 и 3 экспериментальной группы. Провести сравнение этих подвыборок t-testом.\n",
    "\n",
    "---\n",
    "\n",
    "**План исследования:**\n",
    "\n",
    "1. Построить гистограмму распределения получившихся 10000 p-values.\n",
    "\n",
    "2. Посчитать, какой процент p values оказался меньше либо равен 0.05\n",
    "\n",
    "3. Написать вывод по проведенному А/А-тесту, корректно ли работает наша система сплитования."
   ]
  },
  {
   "cell_type": "markdown",
   "metadata": {},
   "source": [
    "## Импорт библиотек и настройка тетради"
   ]
  },
  {
   "cell_type": "code",
   "execution_count": 1,
   "metadata": {},
   "outputs": [],
   "source": [
    "# импорт необходимых библиотек\n",
    "import pandas as pd\n",
    "from matplotlib import pyplot as plt\n",
    "import seaborn as sns \n",
    "sns.set(style ='ticks')\n",
    "import numpy as np\n",
    "from scipy import stats as st\n",
    "import math as mth\n",
    "from math import factorial\n",
    "import statsmodels.api as sm \n",
    "from read_db.CH import Getch\n",
    "import pandahouse"
   ]
  },
  {
   "cell_type": "code",
   "execution_count": 2,
   "metadata": {},
   "outputs": [],
   "source": [
    "# настройка тетради\n",
    "# отключаю системные предупреждения\n",
    "import warnings\n",
    "warnings.filterwarnings('ignore')\n",
    "\n",
    "# помощь в отображении данных\n",
    "pd.set_option('display.max_columns', None) # отображение всех столбцов\n",
    "pd.set_option('display.max_colwidth', None) # отображение данных в столбцах, даже если они слишком длинные"
   ]
  },
  {
   "cell_type": "code",
   "execution_count": 3,
   "metadata": {},
   "outputs": [],
   "source": [
    "# извлечение из кликхауса необходимых для исследования данных\n",
    "data = Getch(''' SELECT exp_group, \n",
    "                        user_id,\n",
    "                        sum(action = 'like') likes,\n",
    "                        sum(action = 'view') views,\n",
    "                        likes/views as ctr\n",
    "                FROM simulator_20230620.feed_actions \n",
    "                WHERE toDate(time) between '2023-05-24' and '2023-05-30'\n",
    "                        and exp_group in (2,3)\n",
    "                GROUP BY exp_group, user_id\n",
    "''').df"
   ]
  },
  {
   "cell_type": "markdown",
   "metadata": {},
   "source": [
    "## Знакомство с данными"
   ]
  },
  {
   "cell_type": "code",
   "execution_count": 4,
   "metadata": {},
   "outputs": [
    {
     "data": {
      "text/html": [
       "<div>\n",
       "<style scoped>\n",
       "    .dataframe tbody tr th:only-of-type {\n",
       "        vertical-align: middle;\n",
       "    }\n",
       "\n",
       "    .dataframe tbody tr th {\n",
       "        vertical-align: top;\n",
       "    }\n",
       "\n",
       "    .dataframe thead th {\n",
       "        text-align: right;\n",
       "    }\n",
       "</style>\n",
       "<table border=\"1\" class=\"dataframe\">\n",
       "  <thead>\n",
       "    <tr style=\"text-align: right;\">\n",
       "      <th></th>\n",
       "      <th>user_id</th>\n",
       "      <th>likes</th>\n",
       "      <th>views</th>\n",
       "      <th>ctr</th>\n",
       "    </tr>\n",
       "    <tr>\n",
       "      <th>exp_group</th>\n",
       "      <th></th>\n",
       "      <th></th>\n",
       "      <th></th>\n",
       "      <th></th>\n",
       "    </tr>\n",
       "  </thead>\n",
       "  <tbody>\n",
       "    <tr>\n",
       "      <th>2</th>\n",
       "      <td>8480</td>\n",
       "      <td>8480</td>\n",
       "      <td>8480</td>\n",
       "      <td>8480</td>\n",
       "    </tr>\n",
       "    <tr>\n",
       "      <th>3</th>\n",
       "      <td>8569</td>\n",
       "      <td>8569</td>\n",
       "      <td>8569</td>\n",
       "      <td>8569</td>\n",
       "    </tr>\n",
       "  </tbody>\n",
       "</table>\n",
       "</div>"
      ],
      "text/plain": [
       "           user_id  likes  views   ctr\n",
       "exp_group                             \n",
       "2             8480   8480   8480  8480\n",
       "3             8569   8569   8569  8569"
      ]
     },
     "execution_count": 4,
     "metadata": {},
     "output_type": "execute_result"
    }
   ],
   "source": [
    "# выгружаю информацию о группах\n",
    "data.groupby('exp_group').count()"
   ]
  },
  {
   "cell_type": "code",
   "execution_count": 5,
   "metadata": {},
   "outputs": [
    {
     "data": {
      "text/html": [
       "<div>\n",
       "<style scoped>\n",
       "    .dataframe tbody tr th:only-of-type {\n",
       "        vertical-align: middle;\n",
       "    }\n",
       "\n",
       "    .dataframe tbody tr th {\n",
       "        vertical-align: top;\n",
       "    }\n",
       "\n",
       "    .dataframe thead th {\n",
       "        text-align: right;\n",
       "    }\n",
       "</style>\n",
       "<table border=\"1\" class=\"dataframe\">\n",
       "  <thead>\n",
       "    <tr style=\"text-align: right;\">\n",
       "      <th></th>\n",
       "      <th>exp_group</th>\n",
       "      <th>user_id</th>\n",
       "      <th>likes</th>\n",
       "      <th>views</th>\n",
       "      <th>ctr</th>\n",
       "    </tr>\n",
       "  </thead>\n",
       "  <tbody>\n",
       "    <tr>\n",
       "      <th>0</th>\n",
       "      <td>3</td>\n",
       "      <td>115383</td>\n",
       "      <td>11</td>\n",
       "      <td>36</td>\n",
       "      <td>0.305556</td>\n",
       "    </tr>\n",
       "    <tr>\n",
       "      <th>1</th>\n",
       "      <td>3</td>\n",
       "      <td>123580</td>\n",
       "      <td>15</td>\n",
       "      <td>92</td>\n",
       "      <td>0.163043</td>\n",
       "    </tr>\n",
       "    <tr>\n",
       "      <th>2</th>\n",
       "      <td>2</td>\n",
       "      <td>131473</td>\n",
       "      <td>26</td>\n",
       "      <td>148</td>\n",
       "      <td>0.175676</td>\n",
       "    </tr>\n",
       "    <tr>\n",
       "      <th>3</th>\n",
       "      <td>2</td>\n",
       "      <td>23985</td>\n",
       "      <td>12</td>\n",
       "      <td>66</td>\n",
       "      <td>0.181818</td>\n",
       "    </tr>\n",
       "    <tr>\n",
       "      <th>4</th>\n",
       "      <td>2</td>\n",
       "      <td>24523</td>\n",
       "      <td>17</td>\n",
       "      <td>120</td>\n",
       "      <td>0.141667</td>\n",
       "    </tr>\n",
       "  </tbody>\n",
       "</table>\n",
       "</div>"
      ],
      "text/plain": [
       "   exp_group  user_id  likes  views       ctr\n",
       "0          3   115383     11     36  0.305556\n",
       "1          3   123580     15     92  0.163043\n",
       "2          2   131473     26    148  0.175676\n",
       "3          2    23985     12     66  0.181818\n",
       "4          2    24523     17    120  0.141667"
      ]
     },
     "execution_count": 5,
     "metadata": {},
     "output_type": "execute_result"
    }
   ],
   "source": [
    "# проверка корректности данных\n",
    "data.head()"
   ]
  },
  {
   "cell_type": "code",
   "execution_count": 6,
   "metadata": {},
   "outputs": [
    {
     "data": {
      "text/plain": [
       "0"
      ]
     },
     "execution_count": 6,
     "metadata": {},
     "output_type": "execute_result"
    }
   ],
   "source": [
    "# проверка на явные дубликаты\n",
    "data.duplicated().sum()"
   ]
  },
  {
   "cell_type": "code",
   "execution_count": 7,
   "metadata": {},
   "outputs": [
    {
     "name": "stdout",
     "output_type": "stream",
     "text": [
      "Разница между группами 2 и 3 составляет: 89\n",
      "Численность пользователей теста: 17049\n"
     ]
    }
   ],
   "source": [
    "total_a = data.query('exp_group == \"2\"')['user_id'].count()\n",
    "total_b = data.query('exp_group == \"3\"')['user_id'].count()\n",
    "print('Разница между группами 2 и 3 составляет:', abs(total_a - total_b))\n",
    "print('Численность пользователей теста:', abs(total_a + total_b))"
   ]
  },
  {
   "cell_type": "code",
   "execution_count": 8,
   "metadata": {},
   "outputs": [
    {
     "name": "stdout",
     "output_type": "stream",
     "text": [
      "Количество пользователей попавших в оба теста: 0\n"
     ]
    }
   ],
   "source": [
    "# проверка, есть ли пользователи, попавшие в обе группы\n",
    "double_users = np.intersect1d(data.query('exp_group == \"2\"')['user_id'].unique(),\n",
    "               data.query('exp_group == \"3\"')['user_id'].unique()) \n",
    "print('Количество пользователей попавших в оба теста:', len(double_users))"
   ]
  },
  {
   "cell_type": "markdown",
   "metadata": {},
   "source": [
    "<div style=\"border:solid black 0.5px; padding: 20px\">\n",
    "\n",
    "На основании выведенных данных можно сделать сделующие заключения:\n",
    "- группы разделены примерно одинаково, 8480 юзеров во второй группе, против 8569 узеров во второй группе. Разница между группами составляет 89 пользователей.\n",
    "- расчет CTR для каждого юзера сработал корректно.\n",
    "- явные дубликаты отсутствуют.\n",
    "- дублирования пользователей в группах нет.\n"
   ]
  },
  {
   "cell_type": "markdown",
   "metadata": {},
   "source": [
    "Что \"пощупать\" данные, построю гистограмму распределения CTR пользователей из двух групп, чтобы, пока, чисто внешне посмотреть, имеются ли какие-то существенные различия между ними."
   ]
  },
  {
   "cell_type": "code",
   "execution_count": 9,
   "metadata": {},
   "outputs": [
    {
     "data": {
      "image/png": "[encoded data removed]",
      "text/plain": [
       "<Figure size 1440x792 with 1 Axes>"
      ]
     },
     "metadata": {},
     "output_type": "display_data"
    }
   ],
   "source": [
    "plt.figure(figsize=(20,11))\n",
    "\n",
    "sns.histplot(data=data, \n",
    "             x='ctr', \n",
    "             hue='exp_group', \n",
    "             alpha = 0.4,\n",
    "             palette = ['g','b'],\n",
    "             kde=False)\n",
    "plt.xticks(rotation=40)\n",
    "plt.title('Распределение CTR пользователей из эксперементальных групп 2 и 3')\n",
    "plt.xlabel('CTR')\n",
    "plt.ylabel('Частота событий');"
   ]
  },
  {
   "cell_type": "markdown",
   "metadata": {},
   "source": [
    "При изучении гистрограммы распределения CTR пользователей из двух групп можно заметить, что каких-то ярковыраженых различий нет, то есть пользователи по группам, с высокой долей вероятности, распределены равномерно.\n",
    "\n",
    "Так это или нет, необходимо подтвердить в дальнейшем анализе."
   ]
  },
  {
   "cell_type": "markdown",
   "metadata": {},
   "source": [
    "## Т-тест для имеющихся групп"
   ]
  },
  {
   "cell_type": "markdown",
   "metadata": {},
   "source": [
    "Как позволяет нам предположить гистограмма распределения CTR пользователей из 2 и 3 группы, пользователи распределены равномерно.\n",
    "Попробую это подтвердить или опровергнуть при помощи Т-теста.\n",
    "\n",
    "Так как t-тест сравнивает два средних значения в выборках, то гипотезы будут звучать следующим образом:\n",
    "\n",
    "Н₀(нулевая гипотеза) - Средние значения CTR двух эксперементальных групп _не имеют_ статистически значимых различий.\n",
    "\n",
    "Н1₁(альтернативная гипотеза - - Средние значения CTR двух эксперементальных групп _имеют_ статистически значимые различия."
   ]
  },
  {
   "cell_type": "code",
   "execution_count": 10,
   "metadata": {},
   "outputs": [
    {
     "name": "stdout",
     "output_type": "stream",
     "text": [
      "p-значение: 0.45969873156477636\n",
      "Не получилось отвергнуть нулевую гипотезу\n"
     ]
    }
   ],
   "source": [
    "alpha = .05 # критические уровень значимости\n",
    "\n",
    "results = st.ttest_ind(\n",
    "    data[data.exp_group == 2].ctr, # данные о CTR пользователей из группы 2\n",
    "    data[data.exp_group == 3].ctr, # данные о CTR пользователей из группы 3\n",
    "    equal_var=False) # использую значение equal_var=False, что предполагает неравные дисперсии, так как нельзя доказать обратное\n",
    "\n",
    "print('p-значение:', results.pvalue)\n",
    "\n",
    "if results.pvalue < alpha:\n",
    "    print(\"Отвергаем нулевую гипотезу\")\n",
    "else:\n",
    "    print(\"Не получилось отвергнуть нулевую гипотезу\") "
   ]
  },
  {
   "cell_type": "markdown",
   "metadata": {},
   "source": [
    "<div style=\"border:solid black 0.5px; padding: 20px\">\n",
    "\n",
    "**Вывод по t-тесту:**\n",
    "\n",
    "Не получилось отвергнуть нулевую гипотезу о том, что статистически значимой разницы между средними значениями CTR из двух групп нет.\n",
    "\n",
    "По проведенному тесту тоже возможно предположить, что пользователи по группам распределены равномерно."
   ]
  },
  {
   "cell_type": "markdown",
   "metadata": {},
   "source": [
    "## Симуляция 10000 А/А-тестов"
   ]
  },
  {
   "cell_type": "markdown",
   "metadata": {},
   "source": [
    "Чтобы подтвердить или опровергнуть ранее сформированные выводы, проведу симуляцию А/А-теста, который был проведен 10000 раз по подвыборкам, состоящим из 500 пользователей. После этой симуляции проверим как распределился получившийся p-value.\n",
    "\n",
    "Решение, естетственно, через цикл."
   ]
  },
  {
   "cell_type": "code",
   "execution_count": 11,
   "metadata": {},
   "outputs": [],
   "source": [
    "p_values = [] # список, куда будут добавляться, рассчитанные в результате симуляции АА-теста, значения p-value\n",
    "\n",
    "\n",
    "for i in range(10000): # задаем число повторений цикла\n",
    "    # формируем подвыборки из основного датафрейма по 500 человек\n",
    "    group_1 = data[data.exp_group == 2].sample(500, replace=True) \n",
    "    group_2 = data[data.exp_group == 3].sample(500, replace=True)\n",
    "    # добавляем в созданный список рассчитанные значения p-value\n",
    "    p_values.append(st.ttest_ind(group_1.ctr, group_2.ctr, equal_var=False).pvalue)"
   ]
  },
  {
   "cell_type": "markdown",
   "metadata": {},
   "source": [
    "Выполню построение гистограммы распределения, чтобы визуально увидеть как расплелены значения p-value, рассчитанные в ходе симуляции."
   ]
  },
  {
   "cell_type": "code",
   "execution_count": 12,
   "metadata": {},
   "outputs": [
    {
     "data": {
      "image/png": "[encoded data removed]",
      "text/plain": [
       "<Figure size 1440x792 with 1 Axes>"
      ]
     },
     "metadata": {},
     "output_type": "display_data"
    }
   ],
   "source": [
    "plt.figure(figsize=(20,11))\n",
    "\n",
    "sns.histplot(p_values, bins = 50)\n",
    "plt.title('Распределение значений p-value, рассчитанные в ходе симуляции')\n",
    "plt.xlabel('p-value')\n",
    "plt.ylabel('Частота событий');"
   ]
  },
  {
   "cell_type": "markdown",
   "metadata": {},
   "source": [
    "<div style=\"border:solid black 0.5px; padding: 20px\">\n",
    "\n",
    "**Вывод по гистограмме распределения**\n",
    "На гистограмме видно, что значения p-value, в целом, распределены равномерно.\n",
    "    \n",
    "Выполню рассчет для определения процента случаев, в которых значение p-value, рассчитанное в ходе симмуляции А/А-теста оказалось меньше или равно критическому уровню значимости alpha = 0.05"
   ]
  },
  {
   "cell_type": "code",
   "execution_count": 13,
   "metadata": {},
   "outputs": [
    {
     "name": "stdout",
     "output_type": "stream",
     "text": [
      "В 5.42 % случаев значение p-value меньше либо равно  критическому уровню значимости alpha = 0.05\n"
     ]
    }
   ],
   "source": [
    "count = 0\n",
    "\n",
    "for i in p_values:\n",
    "    if i <= 0.05:\n",
    "        count = count + 1\n",
    "\n",
    "print('В', (count / len(p_values)) * 100,'% случаев значение p-value меньше либо равно  критическому уровню значимости alpha = 0.05')"
   ]
  },
  {
   "cell_type": "markdown",
   "metadata": {},
   "source": [
    "<div style=\"border:solid black 0.5px; padding: 20px\">\n",
    "    \n",
    "## Вывод по исследованию\n",
    "\n",
    "    \n",
    "Главной задачей текущего исследования было проверить работу системы сплитирования групп на корректность. \n",
    "\n",
    "По результатам выполненных расчетов можно сделать вывод, что _**система сплитирования пользователей по группам сработала корректно**_.\n",
    "\n",
    "Это подтверждают следующие выводы, сформированные в ходе исследования:\n",
    "\n",
    "- Внешне гистограмма распределения значение CTR в двух группах не выявила критических различий.\n",
    "- Т-тест не смог опровергнуть нулевую гипотезу о том, что статистически значимой разницы между средними значениями CTR из двух групп нет.\n",
    "- Значения p-value, полученные в ходе 10000 симуляций А/А-теста распределены равномерно.\n",
    "- В примерно 5 % случаев значение p-value, рассчитанные в ходе симуляции А/А-теста, меньше либо равно критическому уровню значимости alpha = 0.05."
   ]
  }
 ],
 "metadata": {
  "kernelspec": {
   "display_name": "Python 3",
   "language": "python",
   "name": "python3"
  },
  "language_info": {
   "codemirror_mode": {
    "name": "ipython",
    "version": 3
   },
   "file_extension": ".py",
   "mimetype": "text/x-python",
   "name": "python",
   "nbconvert_exporter": "python",
   "pygments_lexer": "ipython3",
   "version": "3.7.3"
  }
 },
 "nbformat": 4,
 "nbformat_minor": 4
}
